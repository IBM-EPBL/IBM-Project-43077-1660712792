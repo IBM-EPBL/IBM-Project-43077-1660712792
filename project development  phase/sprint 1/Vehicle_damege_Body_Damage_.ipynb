FOR BODY DAMAGE
IMAGE PRE PROCESSING
1. Import The ImageDataGenerator Library
In [ ]:
from tensorflow.keras.preprocessing.image import ImageDataGenerator
:2. Configure ImageDataGenerator Class
Image Data Augmentation
In [ ]:
train_datagen = ImageDataGenerator(rescale = 1./255,
                                   shear_range = 0.1,
                                   zoom_range = 0.1,
                                   horizontal_flip = True)

test_datagen = ImageDataGenerator(rescale = 1./255)
3. Apply ImageDataGenerator Functionality To Trainset And Testset
In [ ]:
training_set = train_datagen.flow_from_directory('/content/drive/MyDrive/IBM - PROJECT/Data set/body-20221023T072112Z-001/body/training',
                                                 target_size = (224, 224),
                                                 batch_size = 10,
                                                 class_mode = 'categorical')
test_set = test_datagen.flow_from_directory('/content/drive/MyDrive/IBM - PROJECT/Data set/body-20221023T072112Z-001/body/validation',
                                            target_size = (224, 224),
                                            batch_size = 10,
                                            class_mode = 'categorical')
Found 979 images belonging to 3 classes.
Found 171 images belonging to 3 classes.
MODEL BUILDING
1. Importing The Model Building Libraries
In [ ]:
import tensorflow as tf
from tensorflow.keras.layers import Input, Lambda, Dense, Flatten
from tensorflow.keras.models import Model
from tensorflow.keras.applications.vgg16 import VGG16
from tensorflow.keras.applications.vgg19 import VGG19
from tensorflow.keras.preprocessing import image
from tensorflow.keras.preprocessing.image import ImageDataGenerator,load_img
from tensorflow.keras.models import Sequential
import numpy as np
from glob import glob
2. Loading The Model
In [ ]:
IMAGE_SIZE = [224, 224]

train_path = '/content/drive/MyDrive/IBM - PROJECT/Data set/body-20221023T072112Z-001/body/training'
valid_path = '/content/drive/MyDrive/IBM - PROJECT/Data set/body-20221023T072112Z-001/body/validation'
In [ ]:
vgg16 = VGG16(input_shape=IMAGE_SIZE + [3], weights='imagenet', include_top=False)
Downloading data from https://storage.googleapis.com/tensorflow/keras-applications/vgg16/vgg16_weights_tf_dim_ordering_tf_kernels_notop.h5
58889256/58889256 [==============================] - 0s 0us/step
3. Adding Flatten Layer
In [ ]:
for layer in vgg16.layers:
    layer.trainable = False
In [ ]:
folders = glob('/content/drive/MyDrive/IBM - PROJECT/Data set/body-20221023T072112Z-001/body/training/*')
In [ ]:
folders
Out[ ]:
['/content/drive/MyDrive/IBM - PROJECT/Data set/body-20221023T072112Z-001/body/training/02-side',
 '/content/drive/MyDrive/IBM - PROJECT/Data set/body-20221023T072112Z-001/body/training/01-rear',
 '/content/drive/MyDrive/IBM - PROJECT/Data set/body-20221023T072112Z-001/body/training/00-front']
In [ ]:
x = Flatten()(vgg16.output)
In [ ]:
len(folders)
Out[ ]:
3
4. Adding Output Layer
In [ ]:
prediction = Dense(len(folders), activation='softmax')(x)
5. Creating A Model Object
In [ ]:
model = Model(inputs=vgg16.input, outputs=prediction)
In [ ]:
model.summary()
Model: "model"
_________________________________________________________________
 Layer (type)                Output Shape              Param #   
=================================================================
 input_1 (InputLayer)        [(None, 224, 224, 3)]     0         
                                                                 
 block1_conv1 (Conv2D)       (None, 224, 224, 64)      1792      
                                                                 
 block1_conv2 (Conv2D)       (None, 224, 224, 64)      36928     
                                                                 
 block1_pool (MaxPooling2D)  (None, 112, 112, 64)      0         
                                                                 
 block2_conv1 (Conv2D)       (None, 112, 112, 128)     73856     
                                                                 
 block2_conv2 (Conv2D)       (None, 112, 112, 128)     147584    
                                                                 
 block2_pool (MaxPooling2D)  (None, 56, 56, 128)       0         
                                                                 
 block3_conv1 (Conv2D)       (None, 56, 56, 256)       295168    
                                                                 
